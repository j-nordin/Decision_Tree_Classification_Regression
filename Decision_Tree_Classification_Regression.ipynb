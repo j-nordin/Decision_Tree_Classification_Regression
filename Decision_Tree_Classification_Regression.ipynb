{
 "cells": [
  {
   "attachments": {},
   "cell_type": "markdown",
   "metadata": {},
   "source": [
    "# Assignment 1: Introductory Tour and Decision Trees\n",
    "\n",
    "`Group`: PA 1 26\n",
    "\n",
    "`Date`: Januari 19, 2023\n",
    "\n",
    "`Group Members`:\n",
    "- Albin Ekström\n",
    "- Jonas Nordin\n",
    "\n"
   ]
  },
  {
   "attachments": {},
   "cell_type": "markdown",
   "metadata": {},
   "source": [
    "## Task 1: A classification example: fetal heart condition diagnosis\n",
    "\n",
    "In this task, the assignment was to condition fetal heart diagnosis by using different classifiers and determine which one gives the `best` accuracy."
   ]
  },
  {
   "attachments": {},
   "cell_type": "markdown",
   "metadata": {
    "collapsed": false
   },
   "source": [
    "### Step 1: Reading the data"
   ]
  },
  {
   "cell_type": "code",
   "execution_count": 3,
   "metadata": {
    "collapsed": true
   },
   "outputs": [],
   "source": [
    "import pandas as pd\n",
    "from sklearn.model_selection import train_test_split\n",
    "\n",
    "DATA_FILE = \"data.csv\"\n",
    "\n",
    "# Read the CSV file.\n",
    "data = pd.read_csv(DATA_FILE, skiprows=1)\n",
    "\n",
    "# Select the relevant numerical columns.\n",
    "selected_cols = ['LB', 'AC', 'FM', 'UC', 'DL', 'DS', 'DP', 'ASTV', 'MSTV', 'ALTV',\n",
    "                 'MLTV', 'Width', 'Min', 'Max', 'Nmax', 'Nzeros', 'Mode', 'Mean',\n",
    "                 'Median', 'Variance', 'Tendency', 'NSP']\n",
    "data = data[selected_cols].dropna()\n",
    "\n",
    "# Shuffle the dataset.\n",
    "data_shuffled = data.sample(frac=1.0, random_state=0)\n",
    "\n",
    "# Split into input part X and output part Y.\n",
    "X = data_shuffled.drop('NSP', axis=1)\n",
    "\n",
    "# Map the diagnosis code to a human-readable label.\n",
    "def to_label(y):\n",
    "    return [None, 'normal', 'suspect', 'pathologic'][(int(y))]\n",
    "\n",
    "Y = data_shuffled['NSP'].apply(to_label)\n",
    "\n",
    "# Partition the data into training and test sets.\n",
    "Xtrain, Xtest, Ytrain, Ytest = train_test_split(X, Y, test_size=0.2, random_state=0)"
   ]
  },
  {
   "cell_type": "code",
   "execution_count": 3,
   "metadata": {},
   "outputs": [
    {
     "data": {
      "text/html": [
       "<div>\n",
       "<style scoped>\n",
       "    .dataframe tbody tr th:only-of-type {\n",
       "        vertical-align: middle;\n",
       "    }\n",
       "\n",
       "    .dataframe tbody tr th {\n",
       "        vertical-align: top;\n",
       "    }\n",
       "\n",
       "    .dataframe thead th {\n",
       "        text-align: right;\n",
       "    }\n",
       "</style>\n",
       "<table border=\"1\" class=\"dataframe\">\n",
       "  <thead>\n",
       "    <tr style=\"text-align: right;\">\n",
       "      <th></th>\n",
       "      <th>LB</th>\n",
       "      <th>AC</th>\n",
       "      <th>FM</th>\n",
       "      <th>UC</th>\n",
       "      <th>DL</th>\n",
       "      <th>DS</th>\n",
       "      <th>DP</th>\n",
       "      <th>ASTV</th>\n",
       "      <th>MSTV</th>\n",
       "      <th>ALTV</th>\n",
       "      <th>...</th>\n",
       "      <th>Width</th>\n",
       "      <th>Min</th>\n",
       "      <th>Max</th>\n",
       "      <th>Nmax</th>\n",
       "      <th>Nzeros</th>\n",
       "      <th>Mode</th>\n",
       "      <th>Mean</th>\n",
       "      <th>Median</th>\n",
       "      <th>Variance</th>\n",
       "      <th>Tendency</th>\n",
       "    </tr>\n",
       "  </thead>\n",
       "  <tbody>\n",
       "    <tr>\n",
       "      <th>658</th>\n",
       "      <td>130.0</td>\n",
       "      <td>1.0</td>\n",
       "      <td>0.0</td>\n",
       "      <td>3.0</td>\n",
       "      <td>0.0</td>\n",
       "      <td>0.0</td>\n",
       "      <td>0.0</td>\n",
       "      <td>24.0</td>\n",
       "      <td>1.2</td>\n",
       "      <td>12.0</td>\n",
       "      <td>...</td>\n",
       "      <td>35.0</td>\n",
       "      <td>120.0</td>\n",
       "      <td>155.0</td>\n",
       "      <td>1.0</td>\n",
       "      <td>0.0</td>\n",
       "      <td>134.0</td>\n",
       "      <td>133.0</td>\n",
       "      <td>135.0</td>\n",
       "      <td>1.0</td>\n",
       "      <td>0.0</td>\n",
       "    </tr>\n",
       "    <tr>\n",
       "      <th>1734</th>\n",
       "      <td>134.0</td>\n",
       "      <td>9.0</td>\n",
       "      <td>1.0</td>\n",
       "      <td>8.0</td>\n",
       "      <td>5.0</td>\n",
       "      <td>0.0</td>\n",
       "      <td>0.0</td>\n",
       "      <td>59.0</td>\n",
       "      <td>1.2</td>\n",
       "      <td>0.0</td>\n",
       "      <td>...</td>\n",
       "      <td>109.0</td>\n",
       "      <td>80.0</td>\n",
       "      <td>189.0</td>\n",
       "      <td>6.0</td>\n",
       "      <td>0.0</td>\n",
       "      <td>150.0</td>\n",
       "      <td>146.0</td>\n",
       "      <td>150.0</td>\n",
       "      <td>33.0</td>\n",
       "      <td>0.0</td>\n",
       "    </tr>\n",
       "    <tr>\n",
       "      <th>1226</th>\n",
       "      <td>125.0</td>\n",
       "      <td>1.0</td>\n",
       "      <td>0.0</td>\n",
       "      <td>4.0</td>\n",
       "      <td>0.0</td>\n",
       "      <td>0.0</td>\n",
       "      <td>0.0</td>\n",
       "      <td>43.0</td>\n",
       "      <td>0.7</td>\n",
       "      <td>31.0</td>\n",
       "      <td>...</td>\n",
       "      <td>21.0</td>\n",
       "      <td>120.0</td>\n",
       "      <td>141.0</td>\n",
       "      <td>0.0</td>\n",
       "      <td>0.0</td>\n",
       "      <td>131.0</td>\n",
       "      <td>130.0</td>\n",
       "      <td>132.0</td>\n",
       "      <td>1.0</td>\n",
       "      <td>0.0</td>\n",
       "    </tr>\n",
       "    <tr>\n",
       "      <th>1808</th>\n",
       "      <td>143.0</td>\n",
       "      <td>0.0</td>\n",
       "      <td>0.0</td>\n",
       "      <td>1.0</td>\n",
       "      <td>0.0</td>\n",
       "      <td>0.0</td>\n",
       "      <td>0.0</td>\n",
       "      <td>69.0</td>\n",
       "      <td>0.3</td>\n",
       "      <td>6.0</td>\n",
       "      <td>...</td>\n",
       "      <td>27.0</td>\n",
       "      <td>132.0</td>\n",
       "      <td>159.0</td>\n",
       "      <td>1.0</td>\n",
       "      <td>0.0</td>\n",
       "      <td>145.0</td>\n",
       "      <td>144.0</td>\n",
       "      <td>146.0</td>\n",
       "      <td>1.0</td>\n",
       "      <td>0.0</td>\n",
       "    </tr>\n",
       "    <tr>\n",
       "      <th>825</th>\n",
       "      <td>152.0</td>\n",
       "      <td>0.0</td>\n",
       "      <td>0.0</td>\n",
       "      <td>4.0</td>\n",
       "      <td>0.0</td>\n",
       "      <td>0.0</td>\n",
       "      <td>0.0</td>\n",
       "      <td>62.0</td>\n",
       "      <td>0.4</td>\n",
       "      <td>59.0</td>\n",
       "      <td>...</td>\n",
       "      <td>25.0</td>\n",
       "      <td>136.0</td>\n",
       "      <td>161.0</td>\n",
       "      <td>0.0</td>\n",
       "      <td>0.0</td>\n",
       "      <td>159.0</td>\n",
       "      <td>156.0</td>\n",
       "      <td>158.0</td>\n",
       "      <td>1.0</td>\n",
       "      <td>1.0</td>\n",
       "    </tr>\n",
       "  </tbody>\n",
       "</table>\n",
       "<p>5 rows × 21 columns</p>\n",
       "</div>"
      ],
      "text/plain": [
       "         LB   AC   FM   UC   DL   DS   DP  ASTV  MSTV  ALTV  ...  Width  \\\n",
       "658   130.0  1.0  0.0  3.0  0.0  0.0  0.0  24.0   1.2  12.0  ...   35.0   \n",
       "1734  134.0  9.0  1.0  8.0  5.0  0.0  0.0  59.0   1.2   0.0  ...  109.0   \n",
       "1226  125.0  1.0  0.0  4.0  0.0  0.0  0.0  43.0   0.7  31.0  ...   21.0   \n",
       "1808  143.0  0.0  0.0  1.0  0.0  0.0  0.0  69.0   0.3   6.0  ...   27.0   \n",
       "825   152.0  0.0  0.0  4.0  0.0  0.0  0.0  62.0   0.4  59.0  ...   25.0   \n",
       "\n",
       "        Min    Max  Nmax  Nzeros   Mode   Mean  Median  Variance  Tendency  \n",
       "658   120.0  155.0   1.0     0.0  134.0  133.0   135.0       1.0       0.0  \n",
       "1734   80.0  189.0   6.0     0.0  150.0  146.0   150.0      33.0       0.0  \n",
       "1226  120.0  141.0   0.0     0.0  131.0  130.0   132.0       1.0       0.0  \n",
       "1808  132.0  159.0   1.0     0.0  145.0  144.0   146.0       1.0       0.0  \n",
       "825   136.0  161.0   0.0     0.0  159.0  156.0   158.0       1.0       1.0  \n",
       "\n",
       "[5 rows x 21 columns]"
      ]
     },
     "execution_count": 3,
     "metadata": {},
     "output_type": "execute_result"
    }
   ],
   "source": [
    "# Take a peek at the data consisting of 21 numerical features\n",
    "X.head()"
   ]
  },
  {
   "attachments": {},
   "cell_type": "markdown",
   "metadata": {
    "collapsed": false
   },
   "source": [
    "### Step 2: Training the baseline classifier\n",
    "\n",
    "First, we create a dummy classifier to get a baseline accuracy. Then, to get an idea of how well our simple classifier works, we carry out cross-validation over the training set and compute the classification accuracy on each fold."
   ]
  },
  {
   "cell_type": "code",
   "execution_count": 4,
   "metadata": {
    "collapsed": false
   },
   "outputs": [
    {
     "data": {
      "text/plain": [
       "array([0.78235294, 0.78235294, 0.77941176, 0.77941176, 0.77941176])"
      ]
     },
     "execution_count": 4,
     "metadata": {},
     "output_type": "execute_result"
    }
   ],
   "source": [
    "from sklearn.dummy import DummyClassifier\n",
    "from sklearn.model_selection import cross_val_score\n",
    "\n",
    "clf = DummyClassifier(strategy='most_frequent')\n",
    "cross_val_score(clf, Xtrain, Ytrain)"
   ]
  },
  {
   "attachments": {},
   "cell_type": "markdown",
   "metadata": {},
   "source": [
    "### Step 3: Trying out some different classifiers\n",
    "\n",
    "In this step, we try out different classifiers and compare them to find wich gets the best cross-validation score. "
   ]
  },
  {
   "cell_type": "code",
   "execution_count": 5,
   "metadata": {},
   "outputs": [
    {
     "name": "stdout",
     "output_type": "stream",
     "text": [
      "Random forest score: [0.93529412 0.95588235 0.93529412 0.93529412 0.94117647]\n",
      "Decision tree score: [0.90294118 0.94411765 0.91176471 0.89705882 0.95      ]\n",
      "Gradient boosting score: [0.94117647 0.96176471 0.94411765 0.94411765 0.95294118]\n"
     ]
    }
   ],
   "source": [
    "# TREE-BASED CLASSIFIERS\n",
    "from sklearn.ensemble import RandomForestClassifier\n",
    "from sklearn.tree import DecisionTreeClassifier\n",
    "from sklearn.ensemble import GradientBoostingClassifier\n",
    "\n",
    "rfc = RandomForestClassifier()\n",
    "rfc_score = cross_val_score(rfc, Xtrain, Ytrain)\n",
    "print(\"Random forest score:\", rfc_score)\n",
    "\n",
    "dtc = DecisionTreeClassifier()\n",
    "dtc_score = cross_val_score(dtc, Xtrain, Ytrain)\n",
    "print(\"Decision tree score:\", dtc_score)\n",
    "\n",
    "gbc = GradientBoostingClassifier()\n",
    "gbc_score = cross_val_score(gbc, Xtrain, Ytrain)\n",
    "print(\"Gradient boosting score:\", gbc_score)"
   ]
  },
  {
   "cell_type": "code",
   "execution_count": 6,
   "metadata": {},
   "outputs": [
    {
     "name": "stdout",
     "output_type": "stream",
     "text": [
      "Perceptron score:  [0.84705882 0.88529412 0.82941176 0.85294118 0.71176471]\n",
      "Logistic Regression score:  0.892018779342723\n"
     ]
    },
    {
     "name": "stderr",
     "output_type": "stream",
     "text": [
      "/Users/jonasnordin/opt/anaconda3/lib/python3.9/site-packages/sklearn/svm/_base.py:1206: ConvergenceWarning: Liblinear failed to converge, increase the number of iterations.\n",
      "  warnings.warn(\n",
      "/Users/jonasnordin/opt/anaconda3/lib/python3.9/site-packages/sklearn/svm/_base.py:1206: ConvergenceWarning: Liblinear failed to converge, increase the number of iterations.\n",
      "  warnings.warn(\n",
      "/Users/jonasnordin/opt/anaconda3/lib/python3.9/site-packages/sklearn/svm/_base.py:1206: ConvergenceWarning: Liblinear failed to converge, increase the number of iterations.\n",
      "  warnings.warn(\n",
      "/Users/jonasnordin/opt/anaconda3/lib/python3.9/site-packages/sklearn/svm/_base.py:1206: ConvergenceWarning: Liblinear failed to converge, increase the number of iterations.\n",
      "  warnings.warn(\n"
     ]
    },
    {
     "name": "stdout",
     "output_type": "stream",
     "text": [
      "Linear SVC score:  [0.87352941 0.86764706 0.86176471 0.87058824 0.88823529]\n"
     ]
    },
    {
     "name": "stderr",
     "output_type": "stream",
     "text": [
      "/Users/jonasnordin/opt/anaconda3/lib/python3.9/site-packages/sklearn/svm/_base.py:1206: ConvergenceWarning: Liblinear failed to converge, increase the number of iterations.\n",
      "  warnings.warn(\n"
     ]
    }
   ],
   "source": [
    "# LINEAR CLASSIFIERS\n",
    "from sklearn.linear_model import Perceptron\n",
    "from sklearn.linear_model import LogisticRegression\n",
    "from sklearn.svm import LinearSVC\n",
    "\n",
    "per = Perceptron()\n",
    "per_score = cross_val_score(per, Xtrain, Ytrain)\n",
    "print(\"Perceptron score: \", per_score)\n",
    "\n",
    "lcr = LogisticRegression(max_iter = 40000)\n",
    "lcr.fit(Xtrain, Ytrain)\n",
    "# cross_val_score(LR, Xtrain, Ytrain) doesn't work???\n",
    "lcr_score = lcr.score(Xtest,Ytest)\n",
    "print(\"Logistic Regression score: \", lcr_score)\n",
    "\n",
    "svc = LinearSVC(max_iter=100_000)\n",
    "svc_score = cross_val_score(svc, Xtrain, Ytrain)\n",
    "print(\"Linear SVC score: \", svc_score)"
   ]
  },
  {
   "cell_type": "code",
   "execution_count": 7,
   "metadata": {},
   "outputs": [
    {
     "name": "stdout",
     "output_type": "stream",
     "text": [
      "Neural network score [0.88823529 0.89411765 0.84705882 0.89705882 0.85294118]\n"
     ]
    }
   ],
   "source": [
    "# NEUTRAL NETWORK CLASSIFIER\n",
    "from sklearn.neural_network import MLPClassifier\n",
    "\n",
    "nnc = MLPClassifier(hidden_layer_sizes=(100, 50, 25, 10, ))\n",
    "nnc_score = cross_val_score(nnc, Xtrain, Ytrain)\n",
    "print(\"Neural network score\", nnc_score)"
   ]
  },
  {
   "attachments": {},
   "cell_type": "markdown",
   "metadata": {},
   "source": [
    "### Step 4: Best performing classifier\n",
    "\n",
    "Gradient Boost classifier performed best of all classifiers. It works by combining multiple weak models to make a prediction. A sequence of decision trees is generated iteratively where each tree aims to reduce the residual errors made by the previous tree. The final prediction is made by averaging a prediction made (weighted) by the trees. To adjust the weights of each tree and feature, gradient descent is used to minimize the loss function with respect to the model parameters."
   ]
  },
  {
   "cell_type": "code",
   "execution_count": 8,
   "metadata": {},
   "outputs": [
    {
     "name": "stdout",
     "output_type": "stream",
     "text": [
      "Gradient Boost Classifier score:  0.9295774647887324\n"
     ]
    }
   ],
   "source": [
    "from sklearn.metrics import accuracy_score\n",
    "  \n",
    "gbc = GradientBoostingClassifier()\n",
    "\n",
    "gbc.fit(Xtrain, Ytrain)\n",
    "Yguess = gbc.predict(Xtest)\n",
    "print(\"Gradient Boost Classifier score: \", accuracy_score(Ytest, Yguess))"
   ]
  },
  {
   "attachments": {},
   "cell_type": "markdown",
   "metadata": {},
   "source": [
    "## Task 2: Decision trees for classification\n",
    "\n",
    "In this task, the assignment was to use the premade TreeClassifier from Lecture 1 and find a max depth with good accuracy. Then, after finding a good accuracy a tree should be drawn, but `not` necessarily with the chosen max depth due to visibility. "
   ]
  },
  {
   "attachments": {},
   "cell_type": "markdown",
   "metadata": {},
   "source": [
    "### Imported code from lecture 1"
   ]
  },
  {
   "cell_type": "code",
   "execution_count": 9,
   "metadata": {},
   "outputs": [],
   "source": [
    "import pandas as pd\n",
    "import numpy as np\n",
    "\n",
    "class DecisionTreeLeaf:\n",
    "\n",
    "    def __init__(self, value):\n",
    "        self.value = value\n",
    "\n",
    "    # This method computes the prediction for this leaf node. This will just return a constant value.\n",
    "    def predict(self, x):\n",
    "        return self.value\n",
    "\n",
    "    # Utility function to draw a tree visually using graphviz.\n",
    "    def draw_tree(self, graph, node_counter, names):\n",
    "        node_id = str(node_counter)\n",
    "        val_str = f'{self.value:.4g}' if isinstance(self.value, float) else str(self.value)\n",
    "        graph.node(node_id, val_str, style='filled')\n",
    "        return node_counter+1, node_id\n",
    "        \n",
    "    def __eq__(self, other):\n",
    "        if isinstance(other, DecisionTreeLeaf):\n",
    "            return self.value == other.value\n",
    "        else:\n",
    "            return False\n",
    "\n",
    "class DecisionTreeBranch:\n",
    "\n",
    "    def __init__(self, feature, threshold, low_subtree, high_subtree):\n",
    "        self.feature = feature\n",
    "        self.threshold = threshold\n",
    "        self.low_subtree = low_subtree\n",
    "        self.high_subtree = high_subtree\n",
    "\n",
    "    # For a branch node, we compute the prediction by first considering the feature, and then \n",
    "    # calling the upper or lower subtree, depending on whether the feature is or isn't greater\n",
    "    # than the threshold.\n",
    "    def predict(self, x):\n",
    "        if x[self.feature] <= self.threshold:\n",
    "            return self.low_subtree.predict(x)\n",
    "        else:\n",
    "            return self.high_subtree.predict(x)\n",
    "\n",
    "    # Utility function to draw a tree visually using graphviz.\n",
    "    def draw_tree(self, graph, node_counter, names):\n",
    "        node_counter, low_id = self.low_subtree.draw_tree(graph, node_counter, names)\n",
    "        node_counter, high_id = self.high_subtree.draw_tree(graph, node_counter, names)\n",
    "        node_id = str(node_counter)\n",
    "        fname = f'F{self.feature}' if names is None else names[self.feature]\n",
    "        lbl = f'{fname} > {self.threshold:.4g}?'\n",
    "        graph.node(node_id, lbl, shape='box', fillcolor='yellow', style='filled, rounded')\n",
    "        graph.edge(node_id, low_id, 'False')\n",
    "        graph.edge(node_id, high_id, 'True')\n",
    "        return node_counter+1, node_id\n",
    "\n",
    "\n",
    "from graphviz import Digraph\n",
    "from sklearn.base import BaseEstimator, ClassifierMixin\n",
    "from abc import ABC, abstractmethod\n",
    "\n",
    "class DecisionTree(ABC, BaseEstimator):\n",
    "\n",
    "    def __init__(self, max_depth):\n",
    "        super().__init__()\n",
    "        self.max_depth = max_depth\n",
    "        \n",
    "    # As usual in scikit-learn, the training method is called *fit*. We first process the dataset so that\n",
    "    # we're sure that it's represented as a NumPy matrix. Then we call the recursive tree-building method\n",
    "    # called make_tree (see below).\n",
    "    def fit(self, X, Y):\n",
    "        if isinstance(X, pd.DataFrame):\n",
    "            self.names = X.columns\n",
    "            X = X.to_numpy()\n",
    "        elif isinstance(X, list):\n",
    "            self.names = None\n",
    "            X = np.array(X)\n",
    "        else:\n",
    "            self.names = None\n",
    "        Y = np.array(Y)        \n",
    "        self.root = self.make_tree(X, Y, self.max_depth)\n",
    "        \n",
    "    def draw_tree(self):\n",
    "        graph = Digraph()\n",
    "        self.root.draw_tree(graph, 0, self.names)\n",
    "        return graph\n",
    "    \n",
    "    # By scikit-learn convention, the method *predict* computes the classification or regression output\n",
    "    # for a set of instances.\n",
    "    # To implement it, we call a separate method that carries out the prediction for one instance.\n",
    "    def predict(self, X):\n",
    "        if isinstance(X, pd.DataFrame):\n",
    "            X = X.to_numpy()\n",
    "        return [self.predict_one(x) for x in X]\n",
    "\n",
    "    # Predicting the output for one instance.\n",
    "    def predict_one(self, x):\n",
    "        return self.root.predict(x)        \n",
    "\n",
    "    # This is the recursive training \n",
    "    def make_tree(self, X, Y, max_depth):\n",
    "\n",
    "        # We start by computing the default value that will be used if we'll return a leaf node.\n",
    "        # For classifiers, this will be the most common value in Y.\n",
    "        default_value = self.get_default_value(Y)\n",
    "\n",
    "        # First the two base cases in the recursion: is the training set completely\n",
    "        # homogeneous, or have we reached the maximum depth? Then we need to return a leaf.\n",
    "\n",
    "        # If we have reached the maximum depth, return a leaf with the majority value.\n",
    "        if max_depth == 0:\n",
    "            return DecisionTreeLeaf(default_value)\n",
    "\n",
    "        # If all the instances in the remaining training set have the same output value,\n",
    "        # return a leaf with this value.\n",
    "        if self.is_homogeneous(Y):\n",
    "            return DecisionTreeLeaf(default_value)\n",
    "\n",
    "        # Select the \"most useful\" feature and split threshold. To rank the \"usefulness\" of features,\n",
    "        # we use one of the classification or regression criteria.\n",
    "        # For each feature, we call best_split (defined in a subclass). We then maximize over the features.\n",
    "        n_features = X.shape[1]\n",
    "        _, best_feature, best_threshold = max(self.best_split(X, Y, feature) for feature in range(n_features))\n",
    "        \n",
    "        if best_feature is None:\n",
    "            return DecisionTreeLeaf(default_value)\n",
    "\n",
    "        # Split the training set into subgroups, based on whether the selected feature is greater than\n",
    "        # the threshold or not\n",
    "        X_low, X_high, Y_low, Y_high = self.split_by_feature(X, Y, best_feature, best_threshold)\n",
    "\n",
    "        # Build the subtrees using a recursive call. Each subtree is associated\n",
    "        # with a value of the feature.\n",
    "        low_subtree = self.make_tree(X_low, Y_low, max_depth-1)\n",
    "        high_subtree = self.make_tree(X_high, Y_high, max_depth-1)\n",
    "\n",
    "        if low_subtree == high_subtree:\n",
    "            return low_subtree\n",
    "\n",
    "        # Return a decision tree branch containing the result.\n",
    "        return DecisionTreeBranch(best_feature, best_threshold, low_subtree, high_subtree)\n",
    "    \n",
    "    # Utility method that splits the data into the \"upper\" and \"lower\" part, based on a feature\n",
    "    # and a threshold.\n",
    "    def split_by_feature(self, X, Y, feature, threshold):\n",
    "        low = X[:,feature] <= threshold\n",
    "        high = ~low\n",
    "        return X[low], X[high], Y[low], Y[high]\n",
    "    \n",
    "    # The following three methods need to be implemented by the classification and regression subclasses.\n",
    "    \n",
    "    @abstractmethod\n",
    "    def get_default_value(self, Y):\n",
    "        pass\n",
    "\n",
    "    @abstractmethod\n",
    "    def is_homogeneous(self, Y):\n",
    "        pass\n",
    "\n",
    "    @abstractmethod\n",
    "    def best_split(self, X, Y, feature):\n",
    "        pass\n",
    "\n",
    "from collections import Counter\n",
    "\n",
    "class TreeClassifier(DecisionTree, ClassifierMixin):\n",
    "\n",
    "    def __init__(self, max_depth=10, criterion='maj_sum'):\n",
    "        super().__init__(max_depth)\n",
    "        self.criterion = criterion\n",
    "        \n",
    "    def fit(self, X, Y):\n",
    "        # For decision tree classifiers, there are some different ways to measure\n",
    "        # the homogeneity of subsets.\n",
    "        if self.criterion == 'maj_sum':\n",
    "            self.criterion_function = majority_sum_scorer\n",
    "        elif self.criterion == 'info_gain':\n",
    "            self.criterion_function = info_gain_scorer\n",
    "        elif self.criterion == 'gini':\n",
    "            self.criterion_function = gini_scorer\n",
    "        else:\n",
    "            raise Exception(f'Unknown criterion: {self.criterion}')\n",
    "        super().fit(X, Y)\n",
    "        self.classes_ = sorted(set(Y))\n",
    "\n",
    "    # Select a default value that is going to be used if we decide to make a leaf.\n",
    "    # We will select the most common value.\n",
    "    def get_default_value(self, Y):\n",
    "        self.class_distribution = Counter(Y)\n",
    "        return self.class_distribution.most_common(1)[0][0]\n",
    "    \n",
    "    # Checks whether a set of output values is homogeneous. In the classification case, \n",
    "    # this means that all output values are identical.\n",
    "    # We assume that we called get_default_value just before, so that we can access\n",
    "    # the class_distribution attribute. If the class distribution contains just one item,\n",
    "    # this means that the set is homogeneous.\n",
    "    def is_homogeneous(self, Y):\n",
    "        return len(self.class_distribution) == 1\n",
    "        \n",
    "    # Finds the best splitting point for a given feature. We'll keep frequency tables (Counters)\n",
    "    # for the upper and lower parts, and then compute the impurity criterion using these tables.\n",
    "    # In the end, we return a triple consisting of\n",
    "    # - the best score we found, according to the criterion we're using\n",
    "    # - the id of the feature\n",
    "    # - the threshold for the best split\n",
    "    def best_split(self, X, Y, feature):\n",
    "\n",
    "        # Create a list of input-output pairs, where we have sorted\n",
    "        # in ascending order by the input feature we're considering.\n",
    "        sorted_indices = np.argsort(X[:, feature])        \n",
    "        X_sorted = list(X[sorted_indices, feature])\n",
    "        Y_sorted = list(Y[sorted_indices])\n",
    "\n",
    "        n = len(Y)\n",
    "\n",
    "        # The frequency tables corresponding to the parts *before and including*\n",
    "        # and *after* the current element.\n",
    "        low_distr = Counter()\n",
    "        high_distr = Counter(Y)\n",
    "\n",
    "        # Keep track of the best result we've seen so far.\n",
    "        max_score = -np.inf\n",
    "        max_i = None\n",
    "\n",
    "        # Go through all the positions (excluding the last position).\n",
    "        for i in range(0, n-1):\n",
    "\n",
    "            # Input and output at the current position.\n",
    "            x_i = X_sorted[i]\n",
    "            y_i = Y_sorted[i]\n",
    "            \n",
    "            # Update the frequency tables.\n",
    "            low_distr[y_i] += 1\n",
    "            high_distr[y_i] -= 1\n",
    "\n",
    "            # If the input is equal to the input at the next position, we will\n",
    "            # not consider a split here.\n",
    "            #x_next = XY[i+1][0]\n",
    "            x_next = X_sorted[i+1]\n",
    "            if x_i == x_next:\n",
    "                continue\n",
    "\n",
    "            # Compute the homogeneity criterion for a split at this position.\n",
    "            score = self.criterion_function(i+1, low_distr, n-i-1, high_distr)\n",
    "\n",
    "            # If this is the best split, remember it.\n",
    "            if score > max_score:\n",
    "                max_score = score\n",
    "                max_i = i\n",
    "\n",
    "        # If we didn't find any split (meaning that all inputs are identical), return\n",
    "        # a dummy value.\n",
    "        if max_i is None:\n",
    "            return -np.inf, None, None\n",
    "\n",
    "        # Otherwise, return the best split we found and its score.\n",
    "        split_point = 0.5*(X_sorted[max_i] + X_sorted[max_i+1])\n",
    "        return max_score, feature, split_point\n",
    "\n",
    "def majority_sum_scorer(n_low, low_distr, n_high, high_distr):\n",
    "    maj_sum_low = low_distr.most_common(1)[0][1]\n",
    "    maj_sum_high = high_distr.most_common(1)[0][1]\n",
    "    return maj_sum_low + maj_sum_high\n",
    "    \n",
    "def entropy(distr):\n",
    "    n = sum(distr.values())\n",
    "    ps = [n_i/n for n_i in distr.values()]\n",
    "    return -sum(p*np.log2(p) if p > 0 else 0 for p in ps)\n",
    "\n",
    "def info_gain_scorer(n_low, low_distr, n_high, high_distr):\n",
    "    return -(n_low*entropy(low_distr)+n_high*entropy(high_distr))/(n_low+n_high)\n",
    "\n",
    "def gini_impurity(distr):\n",
    "    n = sum(distr.values())\n",
    "    ps = [n_i/n for n_i in distr.values()]\n",
    "    return 1-sum(p**2 for p in ps)\n",
    "    \n",
    "def gini_scorer(n_low, low_distr, n_high, high_distr):\n",
    "    return -(n_low*gini_impurity(low_distr)+n_high*gini_impurity(high_distr))/(n_low+n_high)"
   ]
  },
  {
   "cell_type": "code",
   "execution_count": 10,
   "metadata": {},
   "outputs": [
    {
     "name": "stdout",
     "output_type": "stream",
     "text": [
      "Tree classifier score (max_depth = 3): 0.9023529411764706\n",
      "Tree classifier score (max_depth = 4): 0.9105882352941176\n",
      "Tree classifier score (max_depth = 5): 0.9123529411764706\n",
      "Tree classifier score (max_depth = 13): 0.9135294117647058\n"
     ]
    }
   ],
   "source": [
    "from sklearn.model_selection import cross_val_score\n",
    "\n",
    "\n",
    "max_v = 0.5\n",
    "for i in range(3, 25):\n",
    "    tcl = TreeClassifier(max_depth=i)\n",
    "    tcl_score = cross_val_score(tcl, Xtrain, Ytrain)\n",
    "    tcl_mean = np.mean(tcl_score)\n",
    "    if float(tcl_mean) > max_v:\n",
    "        max_v = tcl_mean\n",
    "        print(f\"Tree classifier score (max_depth = {i}):\", tcl_mean)\n",
    "\n",
    "# Best max depth: 13 (score: 0.9135294117647058) "
   ]
  },
  {
   "cell_type": "code",
   "execution_count": 11,
   "metadata": {},
   "outputs": [
    {
     "data": {
      "image/svg+xml": "<?xml version=\"1.0\" encoding=\"UTF-8\" standalone=\"no\"?>\n<!DOCTYPE svg PUBLIC \"-//W3C//DTD SVG 1.1//EN\"\n \"http://www.w3.org/Graphics/SVG/1.1/DTD/svg11.dtd\">\n<!-- Generated by graphviz version 7.0.4 (20221203.1631)\n -->\n<!-- Pages: 1 -->\n<svg width=\"807pt\" height=\"305pt\"\n viewBox=\"0.00 0.00 807.49 305.00\" xmlns=\"http://www.w3.org/2000/svg\" xmlns:xlink=\"http://www.w3.org/1999/xlink\">\n<g id=\"graph0\" class=\"graph\" transform=\"scale(1 1) rotate(0) translate(4 301)\">\n<polygon fill=\"white\" stroke=\"none\" points=\"-4,4 -4,-301 803.49,-301 803.49,4 -4,4\"/>\n<!-- 0 -->\n<g id=\"node1\" class=\"node\">\n<title>0</title>\n<ellipse fill=\"lightgrey\" stroke=\"black\" cx=\"36.4\" cy=\"-18\" rx=\"36.29\" ry=\"18\"/>\n<text text-anchor=\"middle\" x=\"36.4\" y=\"-14.3\" font-family=\"Times,serif\" font-size=\"14.00\">suspect</text>\n</g>\n<!-- 1 -->\n<g id=\"node2\" class=\"node\">\n<title>1</title>\n<ellipse fill=\"lightgrey\" stroke=\"black\" cx=\"138.4\" cy=\"-18\" rx=\"48.19\" ry=\"18\"/>\n<text text-anchor=\"middle\" x=\"138.4\" y=\"-14.3\" font-family=\"Times,serif\" font-size=\"14.00\">pathologic</text>\n</g>\n<!-- 2 -->\n<g id=\"node3\" class=\"node\">\n<title>2</title>\n<path fill=\"yellow\" stroke=\"black\" d=\"M174.9,-123C174.9,-123 101.9,-123 101.9,-123 95.9,-123 89.9,-117 89.9,-111 89.9,-111 89.9,-99 89.9,-99 89.9,-93 95.9,-87 101.9,-87 101.9,-87 174.9,-87 174.9,-87 180.9,-87 186.9,-93 186.9,-99 186.9,-99 186.9,-111 186.9,-111 186.9,-117 180.9,-123 174.9,-123\"/>\n<text text-anchor=\"middle\" x=\"138.4\" y=\"-101.3\" font-family=\"Times,serif\" font-size=\"14.00\">ASTV &gt; 79.5?</text>\n</g>\n<!-- 2&#45;&gt;0 -->\n<g id=\"edge1\" class=\"edge\">\n<title>2&#45;&gt;0</title>\n<path fill=\"none\" stroke=\"black\" d=\"M117.76,-86.8C101.89,-73.58 79.87,-55.23 62.74,-40.95\"/>\n<polygon fill=\"black\" stroke=\"black\" points=\"65.37,-38.59 55.44,-34.87 60.88,-43.96 65.37,-38.59\"/>\n<text text-anchor=\"middle\" x=\"108.9\" y=\"-57.8\" font-family=\"Times,serif\" font-size=\"14.00\">False</text>\n</g>\n<!-- 2&#45;&gt;1 -->\n<g id=\"edge2\" class=\"edge\">\n<title>2&#45;&gt;1</title>\n<path fill=\"none\" stroke=\"black\" d=\"M138.4,-86.8C138.4,-75.58 138.4,-60.67 138.4,-47.69\"/>\n<polygon fill=\"black\" stroke=\"black\" points=\"141.9,-47.98 138.4,-37.98 134.9,-47.98 141.9,-47.98\"/>\n<text text-anchor=\"middle\" x=\"151.4\" y=\"-57.8\" font-family=\"Times,serif\" font-size=\"14.00\">True</text>\n</g>\n<!-- 3 -->\n<g id=\"node4\" class=\"node\">\n<title>3</title>\n<ellipse fill=\"lightgrey\" stroke=\"black\" cx=\"240.4\" cy=\"-18\" rx=\"36.29\" ry=\"18\"/>\n<text text-anchor=\"middle\" x=\"240.4\" y=\"-14.3\" font-family=\"Times,serif\" font-size=\"14.00\">normal</text>\n</g>\n<!-- 4 -->\n<g id=\"node5\" class=\"node\">\n<title>4</title>\n<ellipse fill=\"lightgrey\" stroke=\"black\" cx=\"342.4\" cy=\"-18\" rx=\"48.19\" ry=\"18\"/>\n<text text-anchor=\"middle\" x=\"342.4\" y=\"-14.3\" font-family=\"Times,serif\" font-size=\"14.00\">pathologic</text>\n</g>\n<!-- 5 -->\n<g id=\"node6\" class=\"node\">\n<title>5</title>\n<path fill=\"yellow\" stroke=\"black\" d=\"M344.9,-123C344.9,-123 255.9,-123 255.9,-123 249.9,-123 243.9,-117 243.9,-111 243.9,-111 243.9,-99 243.9,-99 243.9,-93 249.9,-87 255.9,-87 255.9,-87 344.9,-87 344.9,-87 350.9,-87 356.9,-93 356.9,-99 356.9,-99 356.9,-111 356.9,-111 356.9,-117 350.9,-123 344.9,-123\"/>\n<text text-anchor=\"middle\" x=\"300.4\" y=\"-101.3\" font-family=\"Times,serif\" font-size=\"14.00\">Tendency &gt; &#45;0.5?</text>\n</g>\n<!-- 5&#45;&gt;3 -->\n<g id=\"edge3\" class=\"edge\">\n<title>5&#45;&gt;3</title>\n<path fill=\"none\" stroke=\"black\" d=\"M288.25,-86.8C279.71,-74.7 268.13,-58.29 258.51,-44.65\"/>\n<polygon fill=\"black\" stroke=\"black\" points=\"261.41,-42.7 252.78,-36.55 255.69,-46.73 261.41,-42.7\"/>\n<text text-anchor=\"middle\" x=\"288.9\" y=\"-57.8\" font-family=\"Times,serif\" font-size=\"14.00\">False</text>\n</g>\n<!-- 5&#45;&gt;4 -->\n<g id=\"edge4\" class=\"edge\">\n<title>5&#45;&gt;4</title>\n<path fill=\"none\" stroke=\"black\" d=\"M308.9,-86.8C314.65,-75.16 322.36,-59.55 328.94,-46.24\"/>\n<polygon fill=\"black\" stroke=\"black\" points=\"331.95,-48.05 333.24,-37.53 325.67,-44.95 331.95,-48.05\"/>\n<text text-anchor=\"middle\" x=\"337.4\" y=\"-57.8\" font-family=\"Times,serif\" font-size=\"14.00\">True</text>\n</g>\n<!-- 6 -->\n<g id=\"node7\" class=\"node\">\n<title>6</title>\n<path fill=\"yellow\" stroke=\"black\" d=\"M337.4,-210C337.4,-210 263.4,-210 263.4,-210 257.4,-210 251.4,-204 251.4,-198 251.4,-198 251.4,-186 251.4,-186 251.4,-180 257.4,-174 263.4,-174 263.4,-174 337.4,-174 337.4,-174 343.4,-174 349.4,-180 349.4,-186 349.4,-186 349.4,-198 349.4,-198 349.4,-204 343.4,-210 337.4,-210\"/>\n<text text-anchor=\"middle\" x=\"300.4\" y=\"-188.3\" font-family=\"Times,serif\" font-size=\"14.00\">ALTV &gt; 68.5?</text>\n</g>\n<!-- 6&#45;&gt;2 -->\n<g id=\"edge5\" class=\"edge\">\n<title>6&#45;&gt;2</title>\n<path fill=\"none\" stroke=\"black\" d=\"M267.22,-173.59C242.43,-160.59 208.33,-142.7 181.44,-128.59\"/>\n<polygon fill=\"black\" stroke=\"black\" points=\"183.35,-125.63 172.87,-124.09 180.1,-131.83 183.35,-125.63\"/>\n<text text-anchor=\"middle\" x=\"243.9\" y=\"-144.8\" font-family=\"Times,serif\" font-size=\"14.00\">False</text>\n</g>\n<!-- 6&#45;&gt;5 -->\n<g id=\"edge6\" class=\"edge\">\n<title>6&#45;&gt;5</title>\n<path fill=\"none\" stroke=\"black\" d=\"M300.4,-173.8C300.4,-162.58 300.4,-147.67 300.4,-134.69\"/>\n<polygon fill=\"black\" stroke=\"black\" points=\"303.9,-134.98 300.4,-124.98 296.9,-134.98 303.9,-134.98\"/>\n<text text-anchor=\"middle\" x=\"313.4\" y=\"-144.8\" font-family=\"Times,serif\" font-size=\"14.00\">True</text>\n</g>\n<!-- 7 -->\n<g id=\"node8\" class=\"node\">\n<title>7</title>\n<ellipse fill=\"lightgrey\" stroke=\"black\" cx=\"456.4\" cy=\"-18\" rx=\"48.19\" ry=\"18\"/>\n<text text-anchor=\"middle\" x=\"456.4\" y=\"-14.3\" font-family=\"Times,serif\" font-size=\"14.00\">pathologic</text>\n</g>\n<!-- 8 -->\n<g id=\"node9\" class=\"node\">\n<title>8</title>\n<ellipse fill=\"lightgrey\" stroke=\"black\" cx=\"558.4\" cy=\"-18\" rx=\"36.29\" ry=\"18\"/>\n<text text-anchor=\"middle\" x=\"558.4\" y=\"-14.3\" font-family=\"Times,serif\" font-size=\"14.00\">normal</text>\n</g>\n<!-- 9 -->\n<g id=\"node10\" class=\"node\">\n<title>9</title>\n<path fill=\"yellow\" stroke=\"black\" d=\"M495.9,-123C495.9,-123 424.9,-123 424.9,-123 418.9,-123 412.9,-117 412.9,-111 412.9,-111 412.9,-99 412.9,-99 412.9,-93 418.9,-87 424.9,-87 424.9,-87 495.9,-87 495.9,-87 501.9,-87 507.9,-93 507.9,-99 507.9,-99 507.9,-111 507.9,-111 507.9,-117 501.9,-123 495.9,-123\"/>\n<text text-anchor=\"middle\" x=\"460.4\" y=\"-101.3\" font-family=\"Times,serif\" font-size=\"14.00\">Max &gt; 220.5?</text>\n</g>\n<!-- 9&#45;&gt;7 -->\n<g id=\"edge7\" class=\"edge\">\n<title>9&#45;&gt;7</title>\n<path fill=\"none\" stroke=\"black\" d=\"M459.59,-86.8C459.06,-75.58 458.36,-60.67 457.75,-47.69\"/>\n<polygon fill=\"black\" stroke=\"black\" points=\"461.26,-47.8 457.29,-37.98 454.26,-48.13 461.26,-47.8\"/>\n<text text-anchor=\"middle\" x=\"473.9\" y=\"-57.8\" font-family=\"Times,serif\" font-size=\"14.00\">False</text>\n</g>\n<!-- 9&#45;&gt;8 -->\n<g id=\"edge8\" class=\"edge\">\n<title>9&#45;&gt;8</title>\n<path fill=\"none\" stroke=\"black\" d=\"M480.23,-86.8C495.24,-73.78 515.98,-55.79 532.33,-41.61\"/>\n<polygon fill=\"black\" stroke=\"black\" points=\"534.49,-44.37 539.75,-35.17 529.9,-39.08 534.49,-44.37\"/>\n<text text-anchor=\"middle\" x=\"528.4\" y=\"-57.8\" font-family=\"Times,serif\" font-size=\"14.00\">True</text>\n</g>\n<!-- 10 -->\n<g id=\"node11\" class=\"node\">\n<title>10</title>\n<ellipse fill=\"lightgrey\" stroke=\"black\" cx=\"649.4\" cy=\"-18\" rx=\"36.29\" ry=\"18\"/>\n<text text-anchor=\"middle\" x=\"649.4\" y=\"-14.3\" font-family=\"Times,serif\" font-size=\"14.00\">normal</text>\n</g>\n<!-- 11 -->\n<g id=\"node12\" class=\"node\">\n<title>11</title>\n<ellipse fill=\"lightgrey\" stroke=\"black\" cx=\"751.4\" cy=\"-18\" rx=\"48.19\" ry=\"18\"/>\n<text text-anchor=\"middle\" x=\"751.4\" y=\"-14.3\" font-family=\"Times,serif\" font-size=\"14.00\">pathologic</text>\n</g>\n<!-- 12 -->\n<g id=\"node13\" class=\"node\">\n<title>12</title>\n<path fill=\"yellow\" stroke=\"black\" d=\"M673.4,-123C673.4,-123 625.4,-123 625.4,-123 619.4,-123 613.4,-117 613.4,-111 613.4,-111 613.4,-99 613.4,-99 613.4,-93 619.4,-87 625.4,-87 625.4,-87 673.4,-87 673.4,-87 679.4,-87 685.4,-93 685.4,-99 685.4,-99 685.4,-111 685.4,-111 685.4,-117 679.4,-123 673.4,-123\"/>\n<text text-anchor=\"middle\" x=\"649.4\" y=\"-101.3\" font-family=\"Times,serif\" font-size=\"14.00\">DP &gt; 1.5?</text>\n</g>\n<!-- 12&#45;&gt;10 -->\n<g id=\"edge9\" class=\"edge\">\n<title>12&#45;&gt;10</title>\n<path fill=\"none\" stroke=\"black\" d=\"M649.4,-86.8C649.4,-75.58 649.4,-60.67 649.4,-47.69\"/>\n<polygon fill=\"black\" stroke=\"black\" points=\"652.9,-47.98 649.4,-37.98 645.9,-47.98 652.9,-47.98\"/>\n<text text-anchor=\"middle\" x=\"663.9\" y=\"-57.8\" font-family=\"Times,serif\" font-size=\"14.00\">False</text>\n</g>\n<!-- 12&#45;&gt;11 -->\n<g id=\"edge10\" class=\"edge\">\n<title>12&#45;&gt;11</title>\n<path fill=\"none\" stroke=\"black\" d=\"M670.04,-86.8C685.6,-73.83 707.1,-55.91 724.09,-41.76\"/>\n<polygon fill=\"black\" stroke=\"black\" points=\"725.9,-44.8 731.34,-35.71 721.42,-39.42 725.9,-44.8\"/>\n<text text-anchor=\"middle\" x=\"719.4\" y=\"-57.8\" font-family=\"Times,serif\" font-size=\"14.00\">True</text>\n</g>\n<!-- 13 -->\n<g id=\"node14\" class=\"node\">\n<title>13</title>\n<path fill=\"yellow\" stroke=\"black\" d=\"M498.9,-210C498.9,-210 421.9,-210 421.9,-210 415.9,-210 409.9,-204 409.9,-198 409.9,-198 409.9,-186 409.9,-186 409.9,-180 415.9,-174 421.9,-174 421.9,-174 498.9,-174 498.9,-174 504.9,-174 510.9,-180 510.9,-186 510.9,-186 510.9,-198 510.9,-198 510.9,-204 504.9,-210 498.9,-210\"/>\n<text text-anchor=\"middle\" x=\"460.4\" y=\"-188.3\" font-family=\"Times,serif\" font-size=\"14.00\">Mean &gt; 107.5?</text>\n</g>\n<!-- 13&#45;&gt;9 -->\n<g id=\"edge11\" class=\"edge\">\n<title>13&#45;&gt;9</title>\n<path fill=\"none\" stroke=\"black\" d=\"M460.4,-173.8C460.4,-162.58 460.4,-147.67 460.4,-134.69\"/>\n<polygon fill=\"black\" stroke=\"black\" points=\"463.9,-134.98 460.4,-124.98 456.9,-134.98 463.9,-134.98\"/>\n<text text-anchor=\"middle\" x=\"474.9\" y=\"-144.8\" font-family=\"Times,serif\" font-size=\"14.00\">False</text>\n</g>\n<!-- 13&#45;&gt;12 -->\n<g id=\"edge12\" class=\"edge\">\n<title>13&#45;&gt;12</title>\n<path fill=\"none\" stroke=\"black\" d=\"M499.1,-173.59C529.08,-160.11 570.74,-141.38 602.59,-127.05\"/>\n<polygon fill=\"black\" stroke=\"black\" points=\"603.92,-130.29 611.61,-122.99 601.05,-123.9 603.92,-130.29\"/>\n<text text-anchor=\"middle\" x=\"579.4\" y=\"-144.8\" font-family=\"Times,serif\" font-size=\"14.00\">True</text>\n</g>\n<!-- 14 -->\n<g id=\"node15\" class=\"node\">\n<title>14</title>\n<path fill=\"yellow\" stroke=\"black\" d=\"M399.4,-297C399.4,-297 323.4,-297 323.4,-297 317.4,-297 311.4,-291 311.4,-285 311.4,-285 311.4,-273 311.4,-273 311.4,-267 317.4,-261 323.4,-261 323.4,-261 399.4,-261 399.4,-261 405.4,-261 411.4,-267 411.4,-273 411.4,-273 411.4,-285 411.4,-285 411.4,-291 405.4,-297 399.4,-297\"/>\n<text text-anchor=\"middle\" x=\"361.4\" y=\"-275.3\" font-family=\"Times,serif\" font-size=\"14.00\">MSTV &gt; 0.45?</text>\n</g>\n<!-- 14&#45;&gt;6 -->\n<g id=\"edge13\" class=\"edge\">\n<title>14&#45;&gt;6</title>\n<path fill=\"none\" stroke=\"black\" d=\"M349.05,-260.8C340.59,-249.01 329.2,-233.14 319.57,-219.72\"/>\n<polygon fill=\"black\" stroke=\"black\" points=\"322.49,-217.78 313.81,-211.7 316.8,-221.86 322.49,-217.78\"/>\n<text text-anchor=\"middle\" x=\"349.9\" y=\"-231.8\" font-family=\"Times,serif\" font-size=\"14.00\">False</text>\n</g>\n<!-- 14&#45;&gt;13 -->\n<g id=\"edge14\" class=\"edge\">\n<title>14&#45;&gt;13</title>\n<path fill=\"none\" stroke=\"black\" d=\"M381.43,-260.8C395.83,-248.44 415.45,-231.59 431.54,-217.78\"/>\n<polygon fill=\"black\" stroke=\"black\" points=\"433.6,-220.62 438.9,-211.45 429.04,-215.31 433.6,-220.62\"/>\n<text text-anchor=\"middle\" x=\"430.4\" y=\"-231.8\" font-family=\"Times,serif\" font-size=\"14.00\">True</text>\n</g>\n</g>\n</svg>\n",
      "text/plain": [
       "<graphviz.graphs.Digraph at 0x7fbb76769400>"
      ]
     },
     "execution_count": 11,
     "metadata": {},
     "output_type": "execute_result"
    }
   ],
   "source": [
    "# Draw a tree with max depth 3\n",
    "tcl = TreeClassifier(max_depth=3)\n",
    "\n",
    "tcl.fit(Xtrain, Ytrain)\n",
    "tcl.draw_tree()"
   ]
  },
  {
   "attachments": {},
   "cell_type": "markdown",
   "metadata": {},
   "source": [
    "## Task 3: A regression example: predicting apartment prices\n",
    "\n",
    "First, preprocessing of the data from sberbank.csv of apartment prices in Russia was made. Then, select a regression model based on the lowest score (closest to zero). Importing the mean squared error function from Sklearn is used to calculate the score."
   ]
  },
  {
   "cell_type": "code",
   "execution_count": 6,
   "metadata": {},
   "outputs": [],
   "source": [
    "import pandas as pd\n",
    "import numpy as np\n",
    "\n",
    "# Read the CSV file using Pandas.\n",
    "alldata = pd.read_csv(\"sberbank.csv\")\n",
    "\n",
    "# Convert the timestamp string to an integer representing the year.\n",
    "def get_year(timestamp):\n",
    "    return int(timestamp[:4])\n",
    "alldata['year'] = alldata.timestamp.apply(get_year)\n",
    "\n",
    "# Select the 9 input columns and the output column.\n",
    "selected_columns = ['price_doc', 'year', 'full_sq', 'life_sq', 'floor', 'num_room', 'kitch_sq', 'full_all']\n",
    "alldata = alldata[selected_columns]\n",
    "alldata = alldata.dropna()\n",
    "\n",
    "# Shuffle.\n",
    "alldata_shuffled = alldata.sample(frac=1.0, random_state=0)\n",
    "\n",
    "# Separate the input and output columns.\n",
    "X = alldata_shuffled.drop('price_doc', axis=1)\n",
    "# For the output, we'll use the log of the sales price.\n",
    "Y = alldata_shuffled['price_doc'].apply(np.log)\n",
    "\n",
    "# Split into training and test sets.\n",
    "Xtrain, Xtest, Ytrain, Ytest = train_test_split(X, Y, test_size=0.2, random_state=0)"
   ]
  },
  {
   "cell_type": "code",
   "execution_count": 9,
   "metadata": {},
   "outputs": [
    {
     "data": {
      "text/plain": [
       "{'fit_time': array([0.00278211, 0.00268078, 0.00342607, 0.00148416, 0.00126195]),\n",
       " 'score_time': array([0.00106692, 0.00062919, 0.00056505, 0.00037909, 0.000453  ]),\n",
       " 'test_score': array([-0.39897319, -0.37113485, -0.38083108, -0.39057156, -0.40475168])}"
      ]
     },
     "execution_count": 9,
     "metadata": {},
     "output_type": "execute_result"
    }
   ],
   "source": [
    "# Using a baseline dummy regressor\n",
    "from sklearn.dummy import DummyRegressor\n",
    "from sklearn.model_selection import cross_validate\n",
    "m1 = DummyRegressor()\n",
    "cross_validate(m1, Xtrain, Ytrain, scoring='neg_mean_squared_error')"
   ]
  },
  {
   "cell_type": "code",
   "execution_count": 12,
   "metadata": {},
   "outputs": [
    {
     "name": "stdout",
     "output_type": "stream",
     "text": [
      "Linear regression score:  [-0.30222063 -0.32537384 -0.29377903 -0.29296258 -0.29265721]\n",
      "Ridge regression score:  [-0.30222063 -0.32537046 -0.29377831 -0.29296256 -0.29265724]\n",
      "Linear regression score:  [-0.31042005 -0.29379119 -0.29803599 -0.30061325 -0.30237486]\n"
     ]
    }
   ],
   "source": [
    "from sklearn.linear_model import LinearRegression\n",
    "from sklearn.linear_model import Ridge\n",
    "from sklearn.linear_model import Lasso\n",
    "  \n",
    "\n",
    "LR = LinearRegression()\n",
    "LR.fit(Xtrain, Ytrain)\n",
    "lr_score = cross_validate(LR, Xtrain, Ytrain, scoring='neg_mean_squared_error')['test_score']\n",
    "print(\"Linear regression score: \", lr_score)\n",
    "\n",
    "R = Ridge()\n",
    "R.fit(Xtrain, Ytrain)\n",
    "r_score = cross_validate(R, Xtrain, Ytrain, scoring='neg_mean_squared_error')['test_score']\n",
    "print(\"Ridge regression score: \", r_score)\n",
    "\n",
    "L = Lasso()\n",
    "L.fit(Xtrain, Ytrain)\n",
    "l_score = cross_validate(L, Xtrain, Ytrain, scoring='neg_mean_squared_error')['test_score']\n",
    "print(\"Linear regression score: \", l_score)"
   ]
  },
  {
   "cell_type": "code",
   "execution_count": 13,
   "metadata": {},
   "outputs": [
    {
     "name": "stdout",
     "output_type": "stream",
     "text": [
      "Random Forest score:  [-0.29312902 -0.27803908 -0.27766253 -0.2810837  -0.28837561]\n",
      "Decision Tree score:  [-0.53728212 -0.52379181 -0.49924309 -0.51167511 -0.5646694 ]\n",
      "Gradient boosting score:  [-0.27650388 -0.24920729 -0.26294248 -0.27079364 -0.26330243]\n"
     ]
    }
   ],
   "source": [
    "from sklearn.ensemble import RandomForestRegressor\n",
    "from sklearn.tree import DecisionTreeRegressor\n",
    "from sklearn.ensemble import GradientBoostingRegressor\n",
    "\n",
    "rfc = RandomForestRegressor()\n",
    "rfc.fit(Xtrain, Ytrain)\n",
    "rfc_score = cross_validate(rfc, Xtrain, Ytrain, scoring='neg_mean_squared_error')['test_score']\n",
    "print(\"Random Forest score: \", rfc_score)\n",
    "\n",
    "dtc = DecisionTreeRegressor()\n",
    "dtc.fit(Xtrain, Ytrain)\n",
    "dtc_score = cross_validate(dtc, Xtrain, Ytrain, scoring='neg_mean_squared_error')['test_score']\n",
    "print(\"Decision Tree score: \", dtc_score)\n",
    "\n",
    "gbc = GradientBoostingRegressor()\n",
    "gbc.fit(Xtrain, Ytrain)\n",
    "gbc_score = cross_validate(gbc, Xtrain, Ytrain, scoring='neg_mean_squared_error')['test_score']\n",
    "print(\"Gradient boosting score: \", gbc_score)"
   ]
  },
  {
   "cell_type": "code",
   "execution_count": 14,
   "metadata": {},
   "outputs": [
    {
     "name": "stdout",
     "output_type": "stream",
     "text": [
      "MLPRegressor score:  [   -7.45699167  -222.77169322    -9.00663714   -19.28751534\n",
      " -3943.30408336]\n"
     ]
    }
   ],
   "source": [
    "from sklearn.neural_network import MLPRegressor\n",
    "\n",
    "MLP = MLPRegressor()\n",
    "MLP.fit(Xtrain, Ytrain)\n",
    "mlp_score = cross_validate(MLP, Xtrain, Ytrain, scoring='neg_mean_squared_error')['test_score']\n",
    "print(\"MLPRegressor score: \", mlp_score)"
   ]
  },
  {
   "attachments": {},
   "cell_type": "markdown",
   "metadata": {},
   "source": [
    "### Gradient Boost Regression\n",
    "Gradient boost regressor got the `best score of negative-MSE approximately -0.2492 `.\n",
    "\n",
    "The gradient boost regression algorithm works the same as the classifier algorithm, but with the difference that the target variable is continuous (e.g. predicting a house price on its features). Both methods use gradient descent to minimize the loss function allowing the model to learn from previous mistakes and improve the accuracy of the final predictions. "
   ]
  },
  {
   "attachments": {},
   "cell_type": "markdown",
   "metadata": {},
   "source": [
    "## Task 4: Decision trees for regression"
   ]
  },
  {
   "attachments": {},
   "cell_type": "markdown",
   "metadata": {},
   "source": [
    "In this task a TreeRegressor is implemented and used to predict house prices. "
   ]
  },
  {
   "attachments": {},
   "cell_type": "markdown",
   "metadata": {},
   "source": [
    "### Step 1: Implementing the regression model"
   ]
  },
  {
   "cell_type": "code",
   "execution_count": 18,
   "metadata": {},
   "outputs": [],
   "source": [
    "# Fast version of calculation the varience of a distribution\n",
    "def fast_var(set):\n",
    "    n = len(set)\n",
    "    return sum([x**2 for x in set])/n - (sum(set)**2)/(n**2)\n",
    "\n",
    "# The function of variance reduction\n",
    "def variance_reduction(n_low, low_distr, n_high, high_distr):\n",
    "    total_var = fast_var(np.hstack((low_distr, high_distr)))\n",
    "    high_term = (n_high*fast_var(high_distr))/(n_low+n_high)\n",
    "    low_term = (n_low*fast_var(low_distr))/(n_low+n_high)\n",
    "    return total_var - high_term - low_term"
   ]
  },
  {
   "cell_type": "code",
   "execution_count": 19,
   "metadata": {},
   "outputs": [],
   "source": [
    "from sklearn.base import RegressorMixin\n",
    "\n",
    "class TreeRegressor(DecisionTree, RegressorMixin):\n",
    "    \n",
    "    def __init__(self, max_depth=10, criterion='variance_reduction'):\n",
    "        super().__init__(max_depth)\n",
    "        self.criterion = criterion\n",
    "        \n",
    "    def fit(self, X, Y):\n",
    "        # For decision tree classifiers, there are some different ways to measure\n",
    "        # the homogeneity of subsets.\n",
    "        if self.criterion == 'maj_sum':\n",
    "            self.criterion_function = majority_sum_scorer\n",
    "        elif self.criterion == 'info_gain':\n",
    "            self.criterion_function = info_gain_scorer\n",
    "        elif self.criterion == 'gini':\n",
    "            self.criterion_function = gini_scorer\n",
    "        elif self.criterion == 'variance_reduction':\n",
    "                self.criterion_function = variance_reduction\n",
    "        else:\n",
    "            raise Exception(f'Unknown criterion: {self.criterion}')\n",
    "        super().fit(X, Y)\n",
    "        self.classes_ = sorted(set(Y))\n",
    "\n",
    "    # Select a default value that is going to be used if we decide to make a leaf.\n",
    "    # We will select the most common value.\n",
    "    def get_default_value(self, Y):\n",
    "        mean_value = np.mean(Y)\n",
    "        return mean_value\n",
    "    \n",
    "    # Checks whether a set of output values is homogeneous. In the classification case, \n",
    "    # this means that all output values are identical.\n",
    "    # We assume that we called get_default_value just before, so that we can access\n",
    "    # the class_distribution attribute. If the class distribution contains just one item,\n",
    "    # this means that the set is homogeneous.\n",
    "    def is_homogeneous(self, Y):\n",
    "        threshold = 0.1\n",
    "        return np.var(Y) < threshold\n",
    "        \n",
    "    # Finds the best splitting point for a given feature. We'll keep frequency tables (Counters)\n",
    "    # for the upper and lower parts, and then compute the impurity criterion using these tables.\n",
    "    # In the end, we return a triple consisting of\n",
    "    # - the best score we found, according to the criterion we're using\n",
    "    # - the id of the feature\n",
    "    # - the threshold for the best split\n",
    "    def best_split(self, X, Y, feature):\n",
    "\n",
    "        # Create a list of input-output pairs, where we have sorted\n",
    "        # in ascending order by the input feature we're considering.\n",
    "        sorted_indices = np.argsort(X[:, feature])        \n",
    "        X_sorted = list(X[sorted_indices, feature])\n",
    "        Y_sorted = list(Y[sorted_indices])\n",
    "\n",
    "        n = len(Y)\n",
    "\n",
    "        # The frequency tables corresponding to the parts *before and including*\n",
    "        # and *after* the current element.\n",
    "        low_distr = []\n",
    "        high_distr = Y_sorted\n",
    "\n",
    "        # Keep track of the best result we've seen so far.\n",
    "        max_score = -np.inf\n",
    "        max_i = None\n",
    "\n",
    "        # Go through all the positions (excluding the last position).\n",
    "        for i in range(0, n-1):\n",
    "            # Update the frequency tables.\n",
    "            low_distr = Y_sorted[0:i+1]\n",
    "            high_distr = Y_sorted[i+1:]\n",
    "\n",
    "            # If the input is equal to the input at the next position, we will\n",
    "            # not consider a split here.\n",
    "            #x_next = XY[i+1][0]\n",
    "            x_next = X_sorted[i+1]\n",
    "            if X_sorted[i] == x_next:\n",
    "                continue\n",
    "\n",
    "            # Compute the homogeneity criterion for a split at this position.\n",
    "            score = self.criterion_function(i+1, low_distr, n-i-1, high_distr)\n",
    "\n",
    "            # If this is the best split, remember it.\n",
    "            if score > max_score:\n",
    "                max_score = score\n",
    "                max_i = i\n",
    "\n",
    "        # If we didn't find any split (meaning that all inputs are identical), return\n",
    "        # a dummy value.\n",
    "        if max_i is None:\n",
    "            return -np.inf, None, None\n",
    "\n",
    "        # Otherwise, return the best split we found and its score.\n",
    "        split_point = 0.5*(X_sorted[max_i] + X_sorted[max_i+1])\n",
    "        return max_score, feature, split_point\n",
    "    "
   ]
  },
  {
   "attachments": {},
   "cell_type": "markdown",
   "metadata": {},
   "source": [
    "### Step 2: Sanity check\n",
    "\n",
    "`Hypothesise` would be to have a decision tree of depth `one` because then the data can be separated in a split and the residual error will be small. There's no idea to have more than one in max depth because more splits wouldn't lower the residual error. With a max depth of `zero` the split would make an average of all data points. This would be a good approximation, but give a relatively large residual error compared to max depth of `one`."
   ]
  },
  {
   "cell_type": "code",
   "execution_count": 20,
   "metadata": {},
   "outputs": [],
   "source": [
    "def make_some_data(n):\n",
    "    x = np.random.uniform(-5, 5, size=n)\n",
    "    Y = (x > 1) + 0.1*np.random.normal(size=n)\n",
    "    X = x.reshape(n, 1) # X needs to be a 2-dimensional matrix\n",
    "    return X, Y"
   ]
  },
  {
   "cell_type": "code",
   "execution_count": 21,
   "metadata": {},
   "outputs": [
    {
     "name": "stdout",
     "output_type": "stream",
     "text": [
      "Tree regression score:  0.01115020661194649\n"
     ]
    },
    {
     "data": {
      "image/svg+xml": "<?xml version=\"1.0\" encoding=\"UTF-8\" standalone=\"no\"?>\n<!DOCTYPE svg PUBLIC \"-//W3C//DTD SVG 1.1//EN\"\n \"http://www.w3.org/Graphics/SVG/1.1/DTD/svg11.dtd\">\n<!-- Generated by graphviz version 7.0.4 (20221203.1631)\n -->\n<!-- Pages: 1 -->\n<svg width=\"190pt\" height=\"131pt\"\n viewBox=\"0.00 0.00 189.89 131.00\" xmlns=\"http://www.w3.org/2000/svg\" xmlns:xlink=\"http://www.w3.org/1999/xlink\">\n<g id=\"graph0\" class=\"graph\" transform=\"scale(1 1) rotate(0) translate(4 127)\">\n<polygon fill=\"white\" stroke=\"none\" points=\"-4,4 -4,-127 185.89,-127 185.89,4 -4,4\"/>\n<!-- 0 -->\n<g id=\"node1\" class=\"node\">\n<title>0</title>\n<ellipse fill=\"lightgrey\" stroke=\"black\" cx=\"46.8\" cy=\"-18\" rx=\"46.59\" ry=\"18\"/>\n<text text-anchor=\"middle\" x=\"46.8\" y=\"-14.3\" font-family=\"Times,serif\" font-size=\"14.00\">&#45;0.002306</text>\n</g>\n<!-- 1 -->\n<g id=\"node2\" class=\"node\">\n<title>1</title>\n<ellipse fill=\"lightgrey\" stroke=\"black\" cx=\"146.8\" cy=\"-18\" rx=\"35.19\" ry=\"18\"/>\n<text text-anchor=\"middle\" x=\"146.8\" y=\"-14.3\" font-family=\"Times,serif\" font-size=\"14.00\">0.9954</text>\n</g>\n<!-- 2 -->\n<g id=\"node3\" class=\"node\">\n<title>2</title>\n<path fill=\"yellow\" stroke=\"black\" d=\"M126.3,-123C126.3,-123 67.3,-123 67.3,-123 61.3,-123 55.3,-117 55.3,-111 55.3,-111 55.3,-99 55.3,-99 55.3,-93 61.3,-87 67.3,-87 67.3,-87 126.3,-87 126.3,-87 132.3,-87 138.3,-93 138.3,-99 138.3,-99 138.3,-111 138.3,-111 138.3,-117 132.3,-123 126.3,-123\"/>\n<text text-anchor=\"middle\" x=\"96.8\" y=\"-101.3\" font-family=\"Times,serif\" font-size=\"14.00\">F0 &gt; 1.054?</text>\n</g>\n<!-- 2&#45;&gt;0 -->\n<g id=\"edge1\" class=\"edge\">\n<title>2&#45;&gt;0</title>\n<path fill=\"none\" stroke=\"black\" d=\"M86.68,-86.8C79.72,-74.97 70.34,-59.03 62.43,-45.58\"/>\n<polygon fill=\"black\" stroke=\"black\" points=\"65.58,-44.03 57.5,-37.19 59.55,-47.58 65.58,-44.03\"/>\n<text text-anchor=\"middle\" x=\"89.3\" y=\"-57.8\" font-family=\"Times,serif\" font-size=\"14.00\">False</text>\n</g>\n<!-- 2&#45;&gt;1 -->\n<g id=\"edge2\" class=\"edge\">\n<title>2&#45;&gt;1</title>\n<path fill=\"none\" stroke=\"black\" d=\"M106.91,-86.8C113.92,-74.89 123.37,-58.82 131.32,-45.31\"/>\n<polygon fill=\"black\" stroke=\"black\" points=\"134.21,-47.3 136.27,-36.9 128.18,-43.75 134.21,-47.3\"/>\n<text text-anchor=\"middle\" x=\"136.8\" y=\"-57.8\" font-family=\"Times,serif\" font-size=\"14.00\">True</text>\n</g>\n</g>\n</svg>\n",
      "text/plain": [
       "<graphviz.graphs.Digraph at 0x7fbb54fa0160>"
      ]
     },
     "execution_count": 21,
     "metadata": {},
     "output_type": "execute_result"
    },
    {
     "data": {
      "image/png": "[encoded data removed]",
      "text/plain": [
       "<Figure size 640x480 with 1 Axes>"
      ]
     },
     "metadata": {},
     "output_type": "display_data"
    }
   ],
   "source": [
    "import matplotlib.pyplot as plt\n",
    "\n",
    "# Train our desicion tree on a small generated dataset\n",
    "generated_data = make_some_data(100)\n",
    "\n",
    "plt.scatter(generated_data[0], generated_data[1])\n",
    "\n",
    "tr = TreeRegressor(max_depth=1)\n",
    "tr.fit(generated_data[0], generated_data[1])\n",
    "\n",
    "\n",
    "tr_score = mean_squared_error(generated_data[1], tr.predict(generated_data[0]))\n",
    "print(\"Tree regression score: \", tr_score)\n",
    "\n",
    "tr.draw_tree()\n",
    "\n"
   ]
  },
  {
   "attachments": {},
   "cell_type": "markdown",
   "metadata": {},
   "source": [
    "### Step 3: Predicting apartment prices using decision tree regression"
   ]
  },
  {
   "cell_type": "code",
   "execution_count": 22,
   "metadata": {},
   "outputs": [],
   "source": [
    "tr = TreeRegressor(max_depth=10)\n",
    "tr.fit(Xtrain, Ytrain)"
   ]
  },
  {
   "cell_type": "code",
   "execution_count": 23,
   "metadata": {},
   "outputs": [
    {
     "name": "stdout",
     "output_type": "stream",
     "text": [
      "Tree regression score with a max depth of 10:  0.31335604177475485\n"
     ]
    }
   ],
   "source": [
    "tr_score = mean_squared_error(Ytest, tr.predict(Xtest))\n",
    "print(\"Tree regression score with a max depth of 10: \", tr_score)"
   ]
  },
  {
   "attachments": {},
   "cell_type": "markdown",
   "metadata": {},
   "source": [
    "## Step 4"
   ]
  },
  {
   "cell_type": "code",
   "execution_count": 25,
   "metadata": {},
   "outputs": [
    {
     "name": "stdout",
     "output_type": "stream",
     "text": [
      "Tree regression scored with max depth 0, training - 0.3891468647585388, test - 0.4028398414133475\n",
      "Tree regression scored with max depth 1, training - 0.3263543480100574, test - 0.34098250711388134\n",
      "Tree regression scored with max depth 2, training - 0.30042490282992007, test - 0.3116427403885958\n",
      "Tree regression scored with max depth 3, training - 0.28927232915183554, test - 0.30188395972140913\n",
      "Tree regression scored with max depth 4, training - 0.2807451934658121, test - 0.29310031188060437\n",
      "Tree regression scored with max depth 5, training - 0.2742861310363099, test - 0.2908261342315253\n",
      "Tree regression scored with max depth 6, training - 0.2667434009364825, test - 0.28643634372540716\n",
      "Tree regression scored with max depth 7, training - 0.2580975870702128, test - 0.2903456812456766\n",
      "Tree regression scored with max depth 8, training - 0.24871134720458812, test - 0.29958287041487663\n",
      "Tree regression scored with max depth 9, training - 0.2399212618132105, test - 0.30619762526665\n",
      "Tree regression scored with max depth 10, training - 0.22830762290316794, test - 0.31335604177475485\n",
      "Tree regression scored with max depth 11, training - 0.21575688242870109, test - 0.32121930059606496\n",
      "Tree regression scored with max depth 12, training - 0.20319241737696103, test - 0.3362578868078887\n"
     ]
    }
   ],
   "source": [
    "max_depths = range(0,13)\n",
    "test_scores = []\n",
    "training_scores = []\n",
    "\n",
    "for i in max_depths:\n",
    "    tr = TreeRegressor(max_depth=i)\n",
    "    tr.fit(Xtrain, Ytrain)\n",
    "\n",
    "    training_score = mean_squared_error(Ytrain, tr.predict(Xtrain))\n",
    "    test_score = mean_squared_error(Ytest, tr.predict(Xtest))\n",
    "\n",
    "    training_scores.append(training_score)\n",
    "    test_scores.append(test_score)\n",
    "    \n",
    "    print(f\"Tree regression scored with max depth {i}, training - {training_score}, test - {test_score}\")\n",
    "    "
   ]
  },
  {
   "attachments": {},
   "cell_type": "markdown",
   "metadata": {},
   "source": [
    "`Outcome` from the evaluation score on the `training set` and on the `test set` for different values of `max_depth`:\n",
    "\n",
    "Tree regression scored with max depth 0,  training - 0.3891468647585388,   test - 0.4028398414133475\n",
    "\n",
    "Tree regression scored with max depth 1,  training - 0.3263543480100574,   test - 0.34098250711388134\n",
    "\n",
    "Tree regression scored with max depth 2,  training - 0.30042490282992007,  test - 0.3116427403885958\n",
    "\n",
    "Tree regression scored with max depth 3,  training - 0.28927232915183554,  test - 0.30188395972140913\n",
    "\n",
    "Tree regression scored with max depth 4,  training - 0.2807451934658121,   test - 0.29310031188060437\n",
    "\n",
    "Tree regression scored with max depth 5,  training - 0.2742861310363099,   test - 0.2908261342315253\n",
    "\n",
    "Tree regression scored with max depth 6,  training - 0.2667434009364825,   test - 0.28643634372540716\n",
    "\n",
    "Tree regression scored with max depth 7,  training - 0.2580975870702128,   test - 0.2903456812456766\n",
    "\n",
    "Tree regression scored with max depth 8,  training - 0.24871134720458812,  test - 0.29958287041487663\n",
    "\n",
    "Tree regression scored with max depth 9,  training - 0.2399212618132105,   test - 0.30619762526665\n",
    "\n",
    "Tree regression scored with max depth 10, training - 0.22830762290316794, test - 0.31335604177475485\n",
    "\n",
    "Tree regression scored with max depth 11, training - 0.21575688242870109, test - 0.32121930059606496\n",
    "\n",
    "Tree regression scored with max depth 12, training - 0.20319241737696103, test - 0.3362578868078887"
   ]
  },
  {
   "cell_type": "code",
   "execution_count": 26,
   "metadata": {},
   "outputs": [
    {
     "data": {
      "image/png": "[encoded data removed]",
      "text/plain": [
       "<Figure size 640x480 with 1 Axes>"
      ]
     },
     "metadata": {},
     "output_type": "display_data"
    }
   ],
   "source": [
    "plt.plot(max_depths, test_scores, '-o', label=\"Test scores\")\n",
    "plt.plot(max_depths, training_scores, '-o', label=\"Training scores\")\n",
    "plt.legend()\n",
    "plt.show()"
   ]
  },
  {
   "attachments": {},
   "cell_type": "markdown",
   "metadata": {},
   "source": [
    "Notice how the two curves start by following each other until the max depth reaches 6. After this point, the test scores start rising while the training score falls even faster. This indicated that the model starts to overfit the data. Therefore the best value to use as a max depth, in this case, would be 6 as this gives us the best score on the test set while not being too overfit to the data."
   ]
  }
 ],
 "metadata": {
  "kernelspec": {
   "display_name": "base",
   "language": "python",
   "name": "python3"
  },
  "language_info": {
   "codemirror_mode": {
    "name": "ipython",
    "version": 3
   },
   "file_extension": ".py",
   "mimetype": "text/x-python",
   "name": "python",
   "nbconvert_exporter": "python",
   "pygments_lexer": "ipython3",
   "version": "3.9.13"
  },
  "vscode": {
   "interpreter": {
    "hash": "e2fb0d209027be7d534b282a1d38ea523e65ed3f0187f418bd1d8276918de21e"
   }
  }
 },
 "nbformat": 4,
 "nbformat_minor": 1
}
